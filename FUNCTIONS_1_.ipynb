{
  "nbformat": 4,
  "nbformat_minor": 0,
  "metadata": {
    "colab": {
      "provenance": [],
      "include_colab_link": true
    },
    "kernelspec": {
      "name": "python3",
      "display_name": "Python 3"
    },
    "language_info": {
      "name": "python"
    }
  },
  "cells": [
    {
      "cell_type": "markdown",
      "metadata": {
        "id": "view-in-github",
        "colab_type": "text"
      },
      "source": [
        "<a href=\"https://colab.research.google.com/github/Lahari21072003/lahari/blob/main/FUNCTIONS_1_.ipynb\" target=\"_parent\"><img src=\"https://colab.research.google.com/assets/colab-badge.svg\" alt=\"Open In Colab\"/></a>"
      ]
    },
    {
      "cell_type": "markdown",
      "source": [
        "*** USE THE CONCEPT OF FUNCTIONS TO SOLVE THE BELOW PROGRAMMING QUESTIONS ***"
      ],
      "metadata": {
        "id": "Rg2ZBqGAQwAf"
      }
    },
    {
      "cell_type": "markdown",
      "source": [
        "1) Write a Python function to sum all the numbers in a list.\n",
        "\n",
        "Sample List : (8, 2, 3, 0, 7)\n",
        "\n",
        "Expected Output : 20\n"
      ],
      "metadata": {
        "id": "ScHTvbE1QwCo"
      }
    },
    {
      "cell_type": "code",
      "source": [
        "def sum_list(numbers):\n",
        "    return sum(numbers)\n",
        "sample_list = [8, 2, 3, 0, 7]\n",
        "print(\"Sum of all numbers in the list:\", sum_list(sample_list))\n"
      ],
      "metadata": {
        "id": "aR_k4uReQ8Og",
        "colab": {
          "base_uri": "https://localhost:8080/"
        },
        "outputId": "8062cb71-02df-4b1c-c61d-b50c99cce448"
      },
      "execution_count": 1,
      "outputs": [
        {
          "output_type": "stream",
          "name": "stdout",
          "text": [
            "Sum of all numbers in the list: 20\n"
          ]
        }
      ]
    },
    {
      "cell_type": "markdown",
      "source": [
        "2) Write a Python function to multiply all the numbers in a list.\n",
        "\n",
        "Sample List : (8, 2, 3, -1, 7)\n",
        "\n",
        "Expected Output : -336"
      ],
      "metadata": {
        "id": "dZtcDLjAQwE-"
      }
    },
    {
      "cell_type": "code",
      "source": [
        "def multiply_list(numbers):\n",
        "    result = 1\n",
        "    for num in numbers:\n",
        "        result *= num\n",
        "    return result\n",
        "sample_list = [8, 2, 3, -1, 7]\n",
        "print(\"Product of all numbers in the list:\", multiply_list(sample_list))\n"
      ],
      "metadata": {
        "id": "98uwoSPnRHyL",
        "colab": {
          "base_uri": "https://localhost:8080/"
        },
        "outputId": "73ab5638-5a1b-4afd-a69b-def569e0e5fb"
      },
      "execution_count": 2,
      "outputs": [
        {
          "output_type": "stream",
          "name": "stdout",
          "text": [
            "Product of all numbers in the list: -336\n"
          ]
        }
      ]
    },
    {
      "cell_type": "markdown",
      "source": [
        "3) Write a Python program to reverse a string.\n",
        "\n",
        "Sample String : \"1234abcd\"\n",
        "\n",
        "Expected Output : \"dcba4321\""
      ],
      "metadata": {
        "id": "99G7rde1QwHN"
      }
    },
    {
      "cell_type": "code",
      "source": [
        "def reverse_string(s):\n",
        "    return s[::-1]\n",
        "sample_str = \"1234abcd\"\n",
        "print(\"Reversed string:\", reverse_string(sample_str))\n"
      ],
      "metadata": {
        "id": "6qmLELFCRQAD",
        "colab": {
          "base_uri": "https://localhost:8080/"
        },
        "outputId": "16ad76f3-b238-4364-bcad-589bedc8251c"
      },
      "execution_count": 3,
      "outputs": [
        {
          "output_type": "stream",
          "name": "stdout",
          "text": [
            "Reversed string: dcba4321\n"
          ]
        }
      ]
    },
    {
      "cell_type": "markdown",
      "source": [
        "4) Write a Python function to calculate the factorial of a number (a non-negative integer). The function accepts the number as an argument."
      ],
      "metadata": {
        "id": "_XE8as7eQwJn"
      }
    },
    {
      "cell_type": "code",
      "source": [
        "def factorial(n):\n",
        "    if n == 0 or n == 1:\n",
        "        return 1\n",
        "    return n * factorial(n - 1)\n",
        "num = 5\n",
        "print(\"Factorial of\", num, \"is:\", factorial(num))\n"
      ],
      "metadata": {
        "id": "Di5n5kNARZdn",
        "colab": {
          "base_uri": "https://localhost:8080/"
        },
        "outputId": "da3c054f-3bcc-419b-fe42-070a380857ec"
      },
      "execution_count": 4,
      "outputs": [
        {
          "output_type": "stream",
          "name": "stdout",
          "text": [
            "Factorial of 5 is: 120\n"
          ]
        }
      ]
    },
    {
      "cell_type": "markdown",
      "source": [
        "5) Write a Python function to check whether a number falls within a given range."
      ],
      "metadata": {
        "id": "I2zyMS7XQwLx"
      }
    },
    {
      "cell_type": "code",
      "source": [
        "def is_within_range(number, start, end):\n",
        "    return start <= number <= end\n",
        "num = 10\n",
        "range_start = 5\n",
        "range_end = 20\n",
        "\n",
        "if is_within_range(num, range_start, range_end):\n",
        "    print(f\"{num} is within the range {range_start} to {range_end}.\")\n",
        "else:\n",
        "    print(f\"{num} is NOT within the range {range_start} to {range_end}.\")\n"
      ],
      "metadata": {
        "id": "rouydHDQRgcc",
        "colab": {
          "base_uri": "https://localhost:8080/"
        },
        "outputId": "38c6c1b0-adeb-43b9-f25a-c9cefe48df9e"
      },
      "execution_count": 5,
      "outputs": [
        {
          "output_type": "stream",
          "name": "stdout",
          "text": [
            "10 is within the range 5 to 20.\n"
          ]
        }
      ]
    }
  ]
}