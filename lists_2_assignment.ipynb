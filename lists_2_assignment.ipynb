{
  "cells": [
    {
      "cell_type": "markdown",
      "metadata": {
        "id": "view-in-github",
        "colab_type": "text"
      },
      "source": [
        "<a href=\"https://colab.research.google.com/github/Lahari21072003/lahari/blob/main/lists_2_assignment.ipynb\" target=\"_parent\"><img src=\"https://colab.research.google.com/assets/colab-badge.svg\" alt=\"Open In Colab\"/></a>"
      ]
    },
    {
      "cell_type": "markdown",
      "metadata": {
        "id": "2caz_EPd5ui9"
      },
      "source": [
        "1.Remove empty strings from the list1 of strings\n",
        "\n",
        "list1 = [\"Mike\", \" \", \"Emma\", \"Kelly\", \" \", \"Brad\"]\n",
        "\n",
        "\n"
      ]
    },
    {
      "cell_type": "code",
      "execution_count": null,
      "metadata": {
        "id": "Q1BAsluP59Zu",
        "colab": {
          "base_uri": "https://localhost:8080/"
        },
        "outputId": "87e52068-2625-4672-fd35-e63b28f168aa"
      },
      "outputs": [
        {
          "output_type": "stream",
          "name": "stdout",
          "text": [
            "List after removing empty strings: ['Mike', 'Emma', 'Kelly', 'Brad']\n"
          ]
        }
      ],
      "source": [
        "def remove_empty_strings(strings):\n",
        "    return [s for s in strings if s.strip()]\n",
        "list1 = [\"Mike\", \" \", \"Emma\", \"Kelly\", \" \", \"Brad\"]\n",
        "result = remove_empty_strings(list1)\n",
        "print(\"List after removing empty strings:\", result)"
      ]
    },
    {
      "cell_type": "markdown",
      "metadata": {
        "id": "dy5zj1nH6EeC"
      },
      "source": [
        "2.Write a program to add item 7000 after 6000 in the following Python List\n",
        "\n",
        "list1 = [10, 20, [300, 400, [5000, 6000], 500], 30, 40]\n",
        "\n",
        "expected o/p ; [10, 20, [300, 400, [5000, 6000, 7000], 500], 30, 40]"
      ]
    },
    {
      "cell_type": "code",
      "execution_count": null,
      "metadata": {
        "id": "NvOK7zjS6Ypm",
        "colab": {
          "base_uri": "https://localhost:8080/"
        },
        "outputId": "90db2167-18f3-4d6e-9c2f-bf115cd3648e"
      },
      "outputs": [
        {
          "output_type": "stream",
          "name": "stdout",
          "text": [
            "Updated list: [10, 20, [300, 400, [5000, 6000, 7000], 500], 30, 40]\n"
          ]
        }
      ],
      "source": [
        "def add_item_after_target(lst, target, item):\n",
        "    for sublist in lst:\n",
        "        if isinstance(sublist, list):\n",
        "            add_item_after_target(sublist, target, item)\n",
        "        elif sublist == target:\n",
        "            index = lst.index(target)\n",
        "            lst.insert(index + 1, item)\n",
        "            return\n",
        "list1 = [10, 20, [300, 400, [5000, 6000], 500], 30, 40]\n",
        "add_item_after_target(list1, 6000, 7000)\n",
        "print(\"Updated list:\", list1)"
      ]
    },
    {
      "cell_type": "markdown",
      "metadata": {
        "id": "eKYYcluk6EoM"
      },
      "source": [
        "3.You have given a Python list. Write a program to find value 20 in the list, and if it is present, replace it with 200. Only update the first occurrence of an item.\n",
        "\n",
        "list1 = [5, 10, 15, 20, 25, 50, 20]\n",
        "\n",
        "Expected output:\n",
        "[5, 10, 15, 200, 25, 50, 20]"
      ]
    },
    {
      "cell_type": "code",
      "execution_count": null,
      "metadata": {
        "id": "Rr8oqp1k6vOX",
        "colab": {
          "base_uri": "https://localhost:8080/"
        },
        "outputId": "0729aaca-e005-46e2-d857-989c67a459fe"
      },
      "outputs": [
        {
          "output_type": "stream",
          "name": "stdout",
          "text": [
            "Updated list: [5, 10, 15, 200, 25, 50, 20]\n"
          ]
        }
      ],
      "source": [
        "def replace_first_occurrence(lst, old_value, new_value):\n",
        "    try:\n",
        "        index = lst.index(old_value)\n",
        "        lst[index] = new_value\n",
        "    except ValueError:\n",
        "        pass\n",
        "list1 = [5, 10, 15, 20, 25, 50, 20]\n",
        "replace_first_occurrence(list1, 20, 200)\n",
        "print(\"Updated list:\", list1)\n"
      ]
    },
    {
      "cell_type": "markdown",
      "metadata": {
        "id": "JbJhbXS46Eyn"
      },
      "source": [
        "4.Remove all occurrences of a specific item from a list.\n",
        "Given a Python list, write a program to remove all occurrences of item 20.\n",
        "\n",
        "list1 = [5, 20, 15, 20, 25, 50, 20]\n",
        "\n",
        "Expected output:\n",
        "\n",
        "[5, 15, 25, 50]"
      ]
    },
    {
      "cell_type": "code",
      "execution_count": null,
      "metadata": {
        "id": "391fvowJ7DIs",
        "colab": {
          "base_uri": "https://localhost:8080/"
        },
        "outputId": "36bf5910-955c-40ce-d382-4549a9e36fc8"
      },
      "outputs": [
        {
          "output_type": "stream",
          "name": "stdout",
          "text": [
            "Updated list: [5, 15, 25, 50]\n"
          ]
        }
      ],
      "source": [
        "def remove_all_occurrences(lst, value_to_remove):\n",
        "    return [item for item in lst if item != value_to_remove]\n",
        "list1 = [5, 20, 15, 20, 25, 50, 20]\n",
        "result = remove_all_occurrences(list1, 20)\n",
        "print(\"Updated list:\", result)\n"
      ]
    },
    {
      "cell_type": "markdown",
      "metadata": {
        "id": "7wpuDD3R6E7g"
      },
      "source": [
        "5.Concatenate two lists in the following order\n",
        "\n",
        "list1 = [\"Hello \", \"take \"]\n",
        "\n",
        "list2 = [\"Dear\", \"Sir\"]\n",
        "\n",
        "Expected output:\n",
        "\n",
        "['Hello Dear', 'Hello Sir', 'take Dear', 'take Sir']"
      ]
    },
    {
      "cell_type": "code",
      "execution_count": null,
      "metadata": {
        "id": "OAEqzjHy7b-h",
        "colab": {
          "base_uri": "https://localhost:8080/"
        },
        "outputId": "8f6b72f0-937f-4973-bf2f-cffd6c15031e"
      },
      "outputs": [
        {
          "output_type": "stream",
          "name": "stdout",
          "text": [
            "Concatenated list: ['Hello Dear', 'Hello Sir', 'take Dear', 'take Sir']\n"
          ]
        }
      ],
      "source": [
        "def concatenate_lists(list1, list2):\n",
        "    return [x + y for x in list1 for y in list2]\n",
        "list1 = [\"Hello \", \"take \"]\n",
        "list2 = [\"Dear\", \"Sir\"]\n",
        "result = concatenate_lists(list1, list2)\n",
        "print(\"Concatenated list:\", result)\n"
      ]
    }
  ],
  "metadata": {
    "colab": {
      "provenance": [],
      "include_colab_link": true
    },
    "kernelspec": {
      "display_name": "Python 3",
      "name": "python3"
    },
    "language_info": {
      "name": "python"
    }
  },
  "nbformat": 4,
  "nbformat_minor": 0
}