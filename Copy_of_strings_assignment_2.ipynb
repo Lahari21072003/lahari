{
  "nbformat": 4,
  "nbformat_minor": 0,
  "metadata": {
    "colab": {
      "provenance": [],
      "toc_visible": true,
      "include_colab_link": true
    },
    "kernelspec": {
      "name": "python3",
      "display_name": "Python 3"
    },
    "language_info": {
      "name": "python"
    }
  },
  "cells": [
    {
      "cell_type": "markdown",
      "metadata": {
        "id": "view-in-github",
        "colab_type": "text"
      },
      "source": [
        "<a href=\"https://colab.research.google.com/github/Lahari21072003/lahari/blob/main/Copy_of_strings_assignment_2.ipynb\" target=\"_parent\"><img src=\"https://colab.research.google.com/assets/colab-badge.svg\" alt=\"Open In Colab\"/></a>"
      ]
    },
    {
      "cell_type": "markdown",
      "source": [
        "## Strings Assignment 2"
      ],
      "metadata": {
        "id": "EPGLodluvWuN"
      }
    },
    {
      "cell_type": "markdown",
      "source": [
        "1.Write a Python program to reverse a string.\n",
        "\n",
        "input : hellohowareyoudoingandhowisyourhealth"
      ],
      "metadata": {
        "id": "ddM5gMtivkoi"
      }
    },
    {
      "cell_type": "code",
      "source": [
        "\n",
        "def reverse_string(input_string):\n",
        "    return input_string[::-1]\n",
        "input_string = \"hellohowareyoudoingandhowisyourhealth\"\n",
        "reversed_string = reverse_string(input_string)\n",
        "print(\"Reversed String:\", reversed_string)\n"
      ],
      "metadata": {
        "id": "RnP576ZZvtLH",
        "colab": {
          "base_uri": "https://localhost:8080/"
        },
        "outputId": "9064268e-2dd6-43e6-ff1a-3ae3480508e7"
      },
      "execution_count": null,
      "outputs": [
        {
          "output_type": "stream",
          "name": "stdout",
          "text": [
            "Reversed String: htlaehruoysiwohdnagnioduoyerawoholleh\n"
          ]
        }
      ]
    },
    {
      "cell_type": "markdown",
      "source": [
        "2.Write a Python program to capitalize the first letter of each word in a sentence.\n",
        "\n",
        "input : hello welcome to internship"
      ],
      "metadata": {
        "id": "jEVFoo3evnhr"
      }
    },
    {
      "cell_type": "code",
      "source": [
        "\n",
        "def capitalize_words(input_sentence):\n",
        "    return input_sentence.title()\n",
        "input_sentence = \"hello welcome to internship\"\n",
        "capitalized_sentence = capitalize_words(input_sentence)\n",
        "print(\"Capitalized Sentence:\", capitalized_sentence)"
      ],
      "metadata": {
        "id": "CTP3QwiGwT93",
        "colab": {
          "base_uri": "https://localhost:8080/"
        },
        "outputId": "8489892e-5aaa-4059-d399-6c2087d62323"
      },
      "execution_count": null,
      "outputs": [
        {
          "output_type": "stream",
          "name": "stdout",
          "text": [
            "Capitalized Sentence: Hello Welcome To Internship\n"
          ]
        }
      ]
    },
    {
      "cell_type": "markdown",
      "source": [
        "3.Write a Python program to find the longest word in a sentence.\n",
        "\n",
        "input : \"he is very good at painting and paint good sketches\""
      ],
      "metadata": {
        "id": "LiGvyCoVvnyC"
      }
    },
    {
      "cell_type": "code",
      "source": [
        "def find_longest_word(sentence):\n",
        "    words = sentence.split()\n",
        "    longest_word = max(words, key=len)\n",
        "    return longest_word\n",
        "sentence = \"he is very good at painting and paint good sketches\"\n",
        "longest_word = find_longest_word(sentence)\n",
        "print(\"The longest word is:\", longest_word)"
      ],
      "metadata": {
        "id": "clATuC3cwwPI",
        "colab": {
          "base_uri": "https://localhost:8080/"
        },
        "outputId": "40baaa04-e661-4e5e-e4bd-202383b32fe1"
      },
      "execution_count": null,
      "outputs": [
        {
          "output_type": "stream",
          "name": "stdout",
          "text": [
            "The longest word is: painting\n"
          ]
        }
      ]
    },
    {
      "cell_type": "markdown",
      "source": [
        "4.Write a Python program to find the length of the last word in a sentence.\n",
        "\n",
        "input : this is the most beautiful beach I ever visited"
      ],
      "metadata": {
        "id": "-QhCplQjvn0w"
      }
    },
    {
      "cell_type": "code",
      "source": [
        "def length_of_last_word(sentence):\n",
        "    words = sentence.split()\n",
        "    if words:\n",
        "        return len(words[-1])\n",
        "    else:\n",
        "        return 0\n",
        "sentence = \"this is the most beautiful beach I ever visited\"\n",
        "last_word_length = length_of_last_word(sentence)\n",
        "print(\"The length of the last word is:\", last_word_length)"
      ],
      "metadata": {
        "id": "QwzbahlkxGZ-",
        "colab": {
          "base_uri": "https://localhost:8080/"
        },
        "outputId": "49827b44-d4e8-4d39-f2d6-7ed7b157352c"
      },
      "execution_count": null,
      "outputs": [
        {
          "output_type": "stream",
          "name": "stdout",
          "text": [
            "The length of the last word is: 7\n"
          ]
        }
      ]
    },
    {
      "cell_type": "markdown",
      "source": [
        "5.Write a Python program to find the second most frequent character in a string.\n",
        "\n",
        "input: the hospital is very big and this hospital has so many doctors"
      ],
      "metadata": {
        "id": "cZiXxZhsvn6q"
      }
    },
    {
      "cell_type": "code",
      "source": [
        "def second_most_frequent_char(string):\n",
        "    string = string.replace(\" \", \"\")\n",
        "    frequency = Counter(string)\n",
        "    sorted_chars = sorted(frequency.items(), key=lambda x: x[1], reverse=True)\n",
        "    if len(sorted_chars) > 1:\n",
        "        return sorted_chars[1][0]\n",
        "    else:\n",
        "        return None\n",
        "string = \"the hospital is very big and this hospital has so many doctors\"\n",
        "second_most_frequent = second_most_frequent_char(string)\n",
        "if second_most_frequent:\n",
        "    print(\"The second most frequent character is:\", second_most_frequent)\n",
        "else:\n",
        "    print(\"No second most frequent character found.\")\n"
      ],
      "metadata": {
        "id": "EnHquuoCxi7F",
        "colab": {
          "base_uri": "https://localhost:8080/"
        },
        "outputId": "60f0400c-150f-4a62-a562-d43ed94f720a"
      },
      "execution_count": null,
      "outputs": [
        {
          "output_type": "stream",
          "name": "stdout",
          "text": [
            "The second most frequent character is: t\n"
          ]
        }
      ]
    }
  ]
}