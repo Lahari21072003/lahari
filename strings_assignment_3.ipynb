{
  "cells": [
    {
      "cell_type": "markdown",
      "metadata": {
        "id": "view-in-github",
        "colab_type": "text"
      },
      "source": [
        "<a href=\"https://colab.research.google.com/github/Lahari21072003/lahari/blob/main/strings_assignment_3.ipynb\" target=\"_parent\"><img src=\"https://colab.research.google.com/assets/colab-badge.svg\" alt=\"Open In Colab\"/></a>"
      ]
    },
    {
      "cell_type": "markdown",
      "metadata": {
        "id": "q8RkYTES1QUW"
      },
      "source": [
        "1.Write a Python program to count the number of vowels in a string.\n",
        "\n",
        "input : hasdfgeuionhjl"
      ]
    },
    {
      "cell_type": "code",
      "execution_count": 1,
      "metadata": {
        "id": "UHi6ezjV1X0s",
        "colab": {
          "base_uri": "https://localhost:8080/"
        },
        "outputId": "aeef5af7-8b88-48f0-df50-13ccd4fb281c"
      },
      "outputs": [
        {
          "output_type": "stream",
          "name": "stdout",
          "text": [
            "Number of vowels: 5\n"
          ]
        }
      ],
      "source": [
        "def count_vowels(input_string):\n",
        "    vowels = \"aeiouAEIOU\"\n",
        "    count = 0\n",
        "    for char in input_string:\n",
        "        if char in vowels:\n",
        "            count += 1\n",
        "    return count\n",
        "input_string = \"hasdfgeuionhjl\"\n",
        "vowel_count = count_vowels(input_string)\n",
        "print(\"Number of vowels:\", vowel_count)"
      ]
    },
    {
      "cell_type": "markdown",
      "metadata": {
        "id": "v7GBEK161QWy"
      },
      "source": [
        "2.Write a Python program to count the occurrences of each word in a sentence.\n",
        "\n",
        "input : hi hello hi and and hi more and more programming"
      ]
    },
    {
      "cell_type": "code",
      "execution_count": 2,
      "metadata": {
        "id": "R-UzDybK1uZo",
        "colab": {
          "base_uri": "https://localhost:8080/"
        },
        "outputId": "59a01ab8-f9e5-4181-a760-6c5af57e1fc1"
      },
      "outputs": [
        {
          "output_type": "stream",
          "name": "stdout",
          "text": [
            "hi: 3\n",
            "hello: 1\n",
            "and: 3\n",
            "more: 2\n",
            "programming: 1\n"
          ]
        }
      ],
      "source": [
        "from collections import Counter\n",
        "def count_word_occurrences(sentence):\n",
        "    words = sentence.split()\n",
        "    word_counts = Counter(words)\n",
        "    return word_counts\n",
        "sentence = \"hi hello hi and and hi more and more programming\"\n",
        "word_counts = count_word_occurrences(sentence)\n",
        "for word, count in word_counts.items():\n",
        "    print(f\"{word}: {count}\")\n"
      ]
    },
    {
      "cell_type": "markdown",
      "metadata": {
        "id": "evCcw-0H1QY9"
      },
      "source": [
        "3.In python how can you differentiate strings and lists. Give atleast 5 different comparisons between them."
      ]
    },
    {
      "cell_type": "markdown",
      "source": [],
      "metadata": {
        "id": "A7BfXK7WsF6t"
      }
    },
    {
      "cell_type": "code",
      "source": [],
      "metadata": {
        "id": "y4BHEkg7sKh1"
      },
      "execution_count": null,
      "outputs": []
    },
    {
      "cell_type": "markdown",
      "source": [
        "strings:\n",
        "\n",
        "Strings are one of the most commonly used data types in Python and are used to represent textual data (words, sentences, etc.)\n",
        "\n",
        "lists:\n",
        "\n",
        "In Python, a list is a collection of ordered, mutable, and heterogeneous elements. Lists are one of the most commonly used data structures for storing and managing sequences of data.\n",
        "\n",
        "comparisons between strings ans lists\n",
        "\n",
        "STRINGS:\n",
        "*   Immutable sequence of characters.\n",
        "*   Immutable (cannot be modified in place).\n",
        "*   Contains only characters.\n",
        "\n",
        "LISTS:\n",
        "*  Mutable sequence of elements (any data type).\n",
        "*   Mutable (can be modified in place).\n",
        "\n",
        "\n",
        "\n",
        "\n",
        "\n"
      ],
      "metadata": {
        "id": "Wlv1kO8EwL_U"
      }
    },
    {
      "cell_type": "markdown",
      "metadata": {
        "id": "riR1PWxG1Qdq"
      },
      "source": [
        "4.Write a string for your own of approximately 40 in length and perform any 5 different string operations on that."
      ]
    },
    {
      "cell_type": "code",
      "execution_count": 3,
      "metadata": {
        "id": "3bHyrDS12e8i",
        "colab": {
          "base_uri": "https://localhost:8080/"
        },
        "outputId": "6469baac-69c3-4b20-94f9-dbc29ca79e9a"
      },
      "outputs": [
        {
          "output_type": "stream",
          "name": "stdout",
          "text": [
            "Uppercase: PYTHON PROGRAMMING IS FUN AND EDUCATIONAL.\n",
            "Position of 'fun': 22\n",
            "Replaced String: Python programming is amazing and educational.\n",
            "Words: ['Python', 'programming', 'is', 'fun', 'and', 'educational.']\n",
            "Starts with 'Python': True\n"
          ]
        }
      ],
      "source": [
        "my_string = \"Python programming is fun and educational.\"\n",
        "upper_string = my_string.upper()\n",
        "print(\"Uppercase:\", upper_string)\n",
        "position = my_string.find(\"fun\")\n",
        "print(\"Position of 'fun':\", position)\n",
        "replaced_string = my_string.replace(\"fun\", \"amazing\")\n",
        "print(\"Replaced String:\", replaced_string)\n",
        "words = my_string.split()\n",
        "print(\"Words:\", words)\n",
        "starts_with = my_string.startswith(\"Python\")\n",
        "print(\"Starts with 'Python':\", starts_with)\n"
      ]
    },
    {
      "cell_type": "markdown",
      "metadata": {
        "id": "bbUm7VVN1Qfu"
      },
      "source": [
        "5.Explain the concatination in strings with a neat example."
      ]
    },
    {
      "cell_type": "code",
      "execution_count": 4,
      "metadata": {
        "id": "y9292Q452tF0",
        "colab": {
          "base_uri": "https://localhost:8080/"
        },
        "outputId": "53a87fc2-158a-4e98-80d0-ff47db58e0f9"
      },
      "outputs": [
        {
          "output_type": "stream",
          "name": "stdout",
          "text": [
            "Hello World\n"
          ]
        }
      ],
      "source": [
        "\n",
        "string1 = \"Hello\"\n",
        "string2 = \"World\"\n",
        "result = string1 + \" \" + string2\n",
        "print(result)"
      ]
    },
    {
      "cell_type": "code",
      "source": [
        "\n",
        "strings = [\"Python\", \"is\", \"awesome\"]\n",
        "result = \" \".join(strings)\n",
        "print(result)"
      ],
      "metadata": {
        "colab": {
          "base_uri": "https://localhost:8080/"
        },
        "id": "mV-0eTeUuQlQ",
        "outputId": "512ed678-001a-40df-f845-f012db625276"
      },
      "execution_count": 5,
      "outputs": [
        {
          "output_type": "stream",
          "name": "stdout",
          "text": [
            "Python is awesome\n"
          ]
        }
      ]
    }
  ],
  "metadata": {
    "colab": {
      "provenance": [],
      "include_colab_link": true
    },
    "kernelspec": {
      "display_name": "Python 3",
      "name": "python3"
    },
    "language_info": {
      "name": "python"
    }
  },
  "nbformat": 4,
  "nbformat_minor": 0
}